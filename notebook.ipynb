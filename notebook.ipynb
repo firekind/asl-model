{
  "nbformat": 4,
  "nbformat_minor": 0,
  "metadata": {
    "colab": {
      "name": "notebook.ipynb",
      "provenance": [],
      "collapsed_sections": [],
      "toc_visible": true,
      "include_colab_link": true
    },
    "kernelspec": {
      "name": "python3",
      "display_name": "Python 3"
    },
    "accelerator": "GPU"
  },
  "cells": [
    {
      "cell_type": "markdown",
      "metadata": {
        "id": "view-in-github",
        "colab_type": "text"
      },
      "source": [
        "<a href=\"https://colab.research.google.com/github/firekind/asl-model/blob/master/notebook.ipynb\" target=\"_parent\"><img src=\"https://colab.research.google.com/assets/colab-badge.svg\" alt=\"Open In Colab\"/></a>"
      ]
    },
    {
      "cell_type": "markdown",
      "metadata": {
        "id": "5WI1gQxgzRz6"
      },
      "source": [
        "## Getting stuff"
      ]
    },
    {
      "cell_type": "code",
      "metadata": {
        "id": "j708odpHe5vE",
        "outputId": "7e441a4a-7915-4386-c58d-ec69d0a4063a",
        "colab": {
          "base_uri": "https://localhost:8080/",
          "height": 52
        }
      },
      "source": [
        "%%shell\n",
        "pip install --upgrade git+http://github.com/firekind/athena &> /dev/null\n",
        "echo \"Downloaded dependencies.\"\n",
        "\n",
        "if [[ ! -d asl-model ]]; then\n",
        "    git clone https://github.com/firekind/asl-model &> /dev/null\n",
        "    echo \"Cloned repo.\"\n",
        "fi"
      ],
      "execution_count": 1,
      "outputs": [
        {
          "output_type": "stream",
          "text": [
            "Downloaded dependencies.\n",
            "Cloned repo.\n"
          ],
          "name": "stdout"
        },
        {
          "output_type": "execute_result",
          "data": {
            "text/plain": [
              ""
            ]
          },
          "metadata": {
            "tags": []
          },
          "execution_count": 1
        }
      ]
    },
    {
      "cell_type": "markdown",
      "metadata": {
        "id": "Cj-mFm_GzUXi"
      },
      "source": [
        "## Mounting drive"
      ]
    },
    {
      "cell_type": "code",
      "metadata": {
        "id": "IPjoFti1sdgo",
        "outputId": "80e4cb11-b82f-4a9a-f7b2-6b69278337f8",
        "colab": {
          "base_uri": "https://localhost:8080/",
          "height": 34
        }
      },
      "source": [
        "from google.colab import drive\n",
        "drive.mount('/content/drive')"
      ],
      "execution_count": 2,
      "outputs": [
        {
          "output_type": "stream",
          "text": [
            "Mounted at /content/drive\n"
          ],
          "name": "stdout"
        }
      ]
    },
    {
      "cell_type": "markdown",
      "metadata": {
        "id": "CzArT0MSzWUj"
      },
      "source": [
        "## Extracting dataset"
      ]
    },
    {
      "cell_type": "code",
      "metadata": {
        "id": "XAxNze-St_jp",
        "outputId": "a02f69ac-adb8-42bc-c965-c6c53710886a",
        "colab": {
          "base_uri": "https://localhost:8080/",
          "height": 52
        }
      },
      "source": [
        "%%shell\n",
        "if [[ ! -d ./data ]]; then\n",
        "    mkdir ./data\n",
        "    echo \"extracting dataset...\"\n",
        "    tar -xf \"/content/drive/My Drive/asl-model/asl-alphabet.tar.xz\" -C ./data\n",
        "    echo \"done.\"\n",
        "else\n",
        "    echo \"dataset already extracted.\"\n",
        "fi"
      ],
      "execution_count": 3,
      "outputs": [
        {
          "output_type": "stream",
          "text": [
            "extracting dataset...\n",
            "done.\n"
          ],
          "name": "stdout"
        },
        {
          "output_type": "execute_result",
          "data": {
            "text/plain": [
              ""
            ]
          },
          "metadata": {
            "tags": []
          },
          "execution_count": 3
        }
      ]
    },
    {
      "cell_type": "markdown",
      "metadata": {
        "id": "nbLNNqOxzaGw"
      },
      "source": [
        "## Basic config"
      ]
    },
    {
      "cell_type": "code",
      "metadata": {
        "id": "XrmJQRmKf_AG"
      },
      "source": [
        "import os\n",
        "os.chdir(\"/content/asl-model\")\n",
        "dataset_path = \"/content/data\"\n",
        "log_path = \"/content/drive/My Drive/asl-model/logs\""
      ],
      "execution_count": 1,
      "outputs": []
    },
    {
      "cell_type": "code",
      "metadata": {
        "id": "fITl8vy7f2sC"
      },
      "source": [
        "from dataset import ASLSignLanguage\n",
        "from athena.datasets import train_val_split\n",
        "from athena import Experiments, ClassificationSolver\n",
        "from athena.models import ResNet18\n",
        "import matplotlib.pyplot as plt\n",
        "import numpy as np\n",
        "import torch.optim as optim\n",
        "import torch.nn.functional as F"
      ],
      "execution_count": 2,
      "outputs": []
    },
    {
      "cell_type": "code",
      "metadata": {
        "id": "WWkFhpO9f5Pa"
      },
      "source": [
        "dataset = ASLSignLanguage(dataset_path, use_default_transforms=True)\n",
        "train_loader, val_loader = train_val_split(dataset, 64, val_split=0.2, use_default_val_transform=True)"
      ],
      "execution_count": 3,
      "outputs": []
    },
    {
      "cell_type": "code",
      "metadata": {
        "id": "fNigkctDgLy4"
      },
      "source": [
        "exps = (\n",
        "    Experiments.builder()\n",
        "    .name(\"Sign Language\")\n",
        "    .log_directory(log_path)\n",
        "    .add(\"ResNet-18\")\n",
        "        .data()\n",
        "            .train_loader(train_loader)\n",
        "            .val_loader(val_loader)\n",
        "        .solver(ClassificationSolver)\n",
        "            .epochs(50)\n",
        "            .model(ResNet18(num_classes=29))\n",
        "            .optimizer(optim.SGD, lr=1e-4, momentum=0.9)\n",
        "        .build()\n",
        "    .build()\n",
        ")"
      ],
      "execution_count": null,
      "outputs": []
    },
    {
      "cell_type": "markdown",
      "metadata": {
        "id": "eYfRPBCQzflN"
      },
      "source": [
        "## Range tests"
      ]
    },
    {
      "cell_type": "code",
      "metadata": {
        "id": "39Dl64IxgOp3",
        "outputId": "cdf48f4e-a6aa-4af4-df9e-9f726de87479",
        "colab": {
          "base_uri": "https://localhost:8080/",
          "height": 444
        }
      },
      "source": [
        "exps[0].lr_range_test(F.cross_entropy, start_lr=1e-6, end_lr=10, num_iter=1000, step_mode=\"exp\")"
      ],
      "execution_count": null,
      "outputs": [
        {
          "output_type": "stream",
          "text": [
            "Running LR Finder:\n",
            "1000/1000 [==============================] - 226s 226ms/step\n"
          ],
          "name": "stdout"
        },
        {
          "output_type": "execute_result",
          "data": {
            "text/plain": [
              "(0.45149677720361003, 1.2885762131855176)"
            ]
          },
          "metadata": {
            "tags": []
          },
          "execution_count": 15
        },
        {
          "output_type": "display_data",
          "data": {
            "image/png": "[encoded data removed]",
            "text/plain": [
              "<Figure size 576x432 with 1 Axes>"
            ]
          },
          "metadata": {
            "tags": [],
            "needs_background": "light"
          }
        }
      ]
    },
    {
      "cell_type": "code",
      "metadata": {
        "id": "y-CI_GvNwCgK",
        "outputId": "33e4d55f-fe96-492e-8928-40a007ad75ec",
        "colab": {
          "base_uri": "https://localhost:8080/",
          "height": 444
        }
      },
      "source": [
        "exps[0].lr_range_test(F.cross_entropy, start_lr=1e-6, end_lr=10, num_iter=2000, step_mode=\"exp\")"
      ],
      "execution_count": null,
      "outputs": [
        {
          "output_type": "stream",
          "text": [
            "Running LR Finder:\n",
            "2000/2000 [==============================] - 451s 225ms/step\n"
          ],
          "name": "stdout"
        },
        {
          "output_type": "execute_result",
          "data": {
            "text/plain": [
              "(7.851406690944124, 0.8413224565441154)"
            ]
          },
          "metadata": {
            "tags": []
          },
          "execution_count": 16
        },
        {
          "output_type": "display_data",
          "data": {
            "image/png": "[encoded data removed]",
            "text/plain": [
              "<Figure size 576x432 with 1 Axes>"
            ]
          },
          "metadata": {
            "tags": [],
            "needs_background": "light"
          }
        }
      ]
    },
    {
      "cell_type": "code",
      "metadata": {
        "id": "IvqX-Cue1_HC"
      },
      "source": [
        ""
      ],
      "execution_count": null,
      "outputs": []
    }
  ]
}